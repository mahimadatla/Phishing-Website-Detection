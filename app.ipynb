{
 "cells": [
  {
   "cell_type": "code",
   "execution_count": null,
   "metadata": {},
   "outputs": [],
   "source": [
    "import gradio as gr\n",
    "import numpy as np\n",
    "import joblib\n",
    "from extractor import main\n",
    "import sys\n",
    "\n",
    "MODEL_PATH = \"model\\RandomForestClassifier.pkl\"\n",
    "\n",
    "\n",
    "\n",
    "# Define a function to make predictions\n",
    "def predict_phishing_website(url):\n",
    "    features = main(url)\n",
    "    features = np.array(features).reshape((1, -1))\n",
    "    model = joblib.load(MODEL_PATH)\n",
    "    print(features)\n",
    "    return int(model.predict(features)[0]) \n",
    "\n",
    "# Create a Gradio interface\n",
    "gr.Interface(fn=predict_phishing_website, \n",
    "             inputs=\"text\", \n",
    "             outputs=\"text\", \n",
    "             title=\"Phishing Website Detector\",\n",
    "             description=\"Enter a website URL to determine whether it's safe or phishing\").launch(share = True)"
   ]
  }
 ],
 "metadata": {
  "kernelspec": {
   "display_name": ".venv",
   "language": "python",
   "name": "python3"
  },
  "language_info": {
   "codemirror_mode": {
    "name": "ipython",
    "version": 3
   },
   "file_extension": ".py",
   "mimetype": "text/x-python",
   "name": "python",
   "nbconvert_exporter": "python",
   "pygments_lexer": "ipython3",
   "version": "3.11.2"
  },
  "orig_nbformat": 4,
  "vscode": {
   "interpreter": {
    "hash": "6879ac9534aa8e54d3e2c9d1f24ea883277559342f01c791ed20d05a45bf3922"
   }
  }
 },
 "nbformat": 4,
 "nbformat_minor": 2
}
