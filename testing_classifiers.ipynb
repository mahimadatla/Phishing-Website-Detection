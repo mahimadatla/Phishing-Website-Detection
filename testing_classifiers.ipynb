{
 "cells": [
  {
   "cell_type": "code",
   "execution_count": null,
   "metadata": {},
   "outputs": [],
   "source": [
    "# Importing modules\n",
    "\n",
    "import pandas as pd\n",
    "import numpy as np\n",
    "from sklearn.model_selection import train_test_split\n",
    "from sklearn.metrics import *\n",
    "\n",
    "\n",
    "from sklearn.linear_model import LogisticRegression\n",
    "from sklearn.svm import SVC\n",
    "from sklearn.ensemble import RandomForestClassifier, GradientBoostingClassifier, AdaBoostClassifier\n",
    "from sklearn.tree import DecisionTreeClassifier\n",
    "from sklearn.neighbors import KNeighborsClassifier\n",
    "from sklearn.naive_bayes import GaussianNB\n",
    "from sklearn.discriminant_analysis import LinearDiscriminantAnalysis, QuadraticDiscriminantAnalysis\n",
    "from sklearn.model_selection import GridSearchCV\n",
    "\n",
    "import matplotlib.pyplot as plt\n",
    "import seaborn as sns\n"
   ]
  },
  {
   "cell_type": "code",
   "execution_count": null,
   "metadata": {},
   "outputs": [],
   "source": [
    "# Reading in data\n",
    "df = pd.read_csv(\"phishing.csv\")"
   ]
  },
  {
   "cell_type": "code",
   "execution_count": null,
   "metadata": {},
   "outputs": [],
   "source": [
    "# Extracting labels\n",
    "labels = df.loc[:, ~df.columns.str.contains('class')]\n",
    "labels.shape\n",
    "\n",
    "\n",
    "\n"
   ]
  },
  {
   "cell_type": "code",
   "execution_count": null,
   "metadata": {},
   "outputs": [],
   "source": [
    "target = df['class']"
   ]
  },
  {
   "cell_type": "code",
   "execution_count": null,
   "metadata": {},
   "outputs": [],
   "source": [
    "\n",
    "# Create a correlation matrix\n",
    "corr_matrix = labels.corr().abs()\n",
    "\n",
    "# Select upper triangle of correlation matrix\n",
    "upper = corr_matrix.where(np.triu(np.ones(corr_matrix.shape), k=1).astype(bool))\n",
    "print(pd.DataFrame(upper))"
   ]
  },
  {
   "cell_type": "code",
   "execution_count": null,
   "metadata": {},
   "outputs": [],
   "source": [
    "relevant = [1, 2, 3, 4, 5, 6, 7, 9, 10, 12, 13, 14, 15, 16, 17, 18, 23, 24, 25, 28, 30]\n",
    "features = np.array(labels.columns)[relevant]\n",
    "features"
   ]
  },
  {
   "cell_type": "code",
   "execution_count": null,
   "metadata": {},
   "outputs": [],
   "source": [
    "labels[features]\n"
   ]
  },
  {
   "cell_type": "code",
   "execution_count": null,
   "metadata": {},
   "outputs": [],
   "source": [
    "# Train test split\n",
    "training_labels, testing_labels, training_target, testing_target  = train_test_split(labels, target, random_state = 42, )\n"
   ]
  },
  {
   "cell_type": "code",
   "execution_count": null,
   "metadata": {},
   "outputs": [],
   "source": [
    "\n",
    "\n",
    "# Define the range of hyperparameters for each classifier\n",
    "param_grid_lr = {\n",
    "    'penalty': ['l1', 'l2'],\n",
    "    'C': [0.1, 1, 10],\n",
    "    'solver': ['liblinear', 'saga']\n",
    "}\n",
    "param_grid_svc = {\n",
    "    'C': [0.1, 1, 10],\n",
    "    'kernel': ['linear', 'rbf', 'poly'],\n",
    "    'gamma': ['scale', 'auto']\n",
    "}\n",
    "param_grid_rf = {\n",
    "    'n_estimators': [50, 100, 200],\n",
    "    'max_depth': [5, 10, 20],\n",
    "    'max_features': ['sqrt', 'log2'],\n",
    "    'min_samples_split': [2, 5, 10],\n",
    "    'min_samples_leaf': [1, 2, 4]\n",
    "}\n",
    "param_grid_gb = {\n",
    "    'n_estimators': [50, 100, 200],\n",
    "    'learning_rate': [0.05, 0.1, 0.2],\n",
    "    'max_depth': [3, 5, 10]\n",
    "}\n",
    "param_grid_dt = {\n",
    "    'max_depth': [5, 10, 20],\n",
    "    'min_samples_split': [2, 5, 10],\n",
    "    'min_samples_leaf': [1, 2, 4]\n",
    "}\n",
    "param_grid_knn = {\n",
    "    'n_neighbors': [5, 10, 15],\n",
    "    'weights': ['uniform', 'distance']\n",
    "}\n",
    "param_grid_ada = {\n",
    "    'n_estimators': [50, 100, 200],\n",
    "    'learning_rate': [0.1, 0.5, 1.0]\n",
    "}\n",
    "\n",
    "# Create a list of classifiers with their corresponding hyperparameters\n",
    "classifiers = [\n",
    "    #(LogisticRegression(), param_grid_lr),\n",
    "    #(SVC(), param_grid_svc),\n",
    "    (RandomForestClassifier(random_state=42), param_grid_rf),\n",
    "    (GradientBoostingClassifier(random_state=42), param_grid_gb),\n",
    "    (DecisionTreeClassifier(random_state=42), param_grid_dt),\n",
    "    (KNeighborsClassifier(), param_grid_knn),\n",
    "    (GaussianNB(), None),\n",
    "    #(AdaBoostClassifier(random_state=42), param_grid_ada),\n",
    "    #(LinearDiscriminantAnalysis(), None),\n",
    "    (QuadraticDiscriminantAnalysis(), None)\n",
    "]\n",
    "\n",
    "n_max = 1000\n",
    "# Loop over the classifiers and perform grid search\n",
    "for clf, param_grid in classifiers:\n",
    "    if param_grid is not None:\n",
    "        grid_search = GridSearchCV(clf, param_grid=param_grid, cv=3, n_jobs = 3, verbose=2)\n",
    "        grid_search.fit(training_labels[:n_max], training_target[:n_max])\n",
    "        print(clf.__class__.__name__)\n",
    "        print(\"Best parameters:\", grid_search.best_params_)\n",
    "        print(\"Training accuracy:\", grid_search.best_score_)\n",
    "        print(\"Test accuracy:\", grid_search.score(testing_labels[:n_max], testing_target[:n_max]))\n",
    "        print(\"---\")\n",
    "    else:\n",
    "        clf.fit(training_labels[:n_max], training_target[:n_max])\n",
    "        print(clf.__class__.__name__)\n",
    "        print(\"Training accuracy:\", clf.score(training_labels[:n_max], training_target[:n_max]))\n",
    "        print(\"Test accuracy:\", clf.score(testing_labels[:n_max], testing_target[:n_max]))\n",
    "        print(\"---\")\n",
    "        \n"
   ]
  },
  {
   "cell_type": "code",
   "execution_count": null,
   "metadata": {},
   "outputs": [],
   "source": [
    "clf, param_grid = LogisticRegression(), param_grid_lr\n",
    "grid_search = GridSearchCV(clf, param_grid=param_grid, cv=5)\n",
    "grid_search.fit(training_labels, training_target)\n",
    "print(clf.__class__.__name__)\n",
    "print(\"Best parameters:\", grid_search.best_params_)\n",
    "print(\"Training accuracy:\", grid_search.best_score_)\n",
    "print(\"Test accuracy:\", grid_search.score(testing_labels, testing_target))\n",
    "print(\"---\")"
   ]
  },
  {
   "cell_type": "code",
   "execution_count": null,
   "metadata": {},
   "outputs": [],
   "source": [
    "clf, param_grid = SVC(), param_grid_svc\n",
    "grid_search = GridSearchCV(clf, param_grid=param_grid, cv=5)\n",
    "grid_search.fit(training_labels, training_target)\n",
    "print(clf.__class__.__name__)\n",
    "print(\"Best parameters:\", grid_search.best_params_)\n",
    "print(\"Training accuracy:\", grid_search.best_score_)\n",
    "print(\"Test accuracy:\", grid_search.score(testing_labels, testing_target))\n",
    "print(\"---\")"
   ]
  },
  {
   "cell_type": "code",
   "execution_count": null,
   "metadata": {},
   "outputs": [],
   "source": [
    "clf, param_grid = RandomForestClassifier(random_state=42), param_grid_rf\n",
    "grid_search = GridSearchCV(clf, param_grid=param_grid, cv=5)\n",
    "grid_search.fit(training_labels, training_target)\n",
    "print(clf.__class__.__name__)\n",
    "print(\"Best parameters:\", grid_search.best_params_)\n",
    "print(\"Training accuracy:\", grid_search.best_score_)\n",
    "print(\"Test accuracy:\", grid_search.score(testing_labels, testing_target))\n",
    "print(\"---\")"
   ]
  },
  {
   "cell_type": "code",
   "execution_count": null,
   "metadata": {},
   "outputs": [],
   "source": [
    "clf, param_grid = GradientBoostingClassifier(random_state=42), param_grid_gb\n",
    "grid_search = GridSearchCV(clf, param_grid=param_grid, cv=5)\n",
    "grid_search.fit(training_labels, training_target)\n",
    "print(clf.__class__.__name__)\n",
    "print(\"Best parameters:\", grid_search.best_params_)\n",
    "print(\"Training accuracy:\", grid_search.best_score_)\n",
    "print(\"Test accuracy:\", grid_search.score(testing_labels, testing_target))\n",
    "print(\"---\")"
   ]
  },
  {
   "cell_type": "code",
   "execution_count": null,
   "metadata": {},
   "outputs": [],
   "source": [
    "clf, param_grid = DecisionTreeClassifier(random_state=42), param_grid_dt\n",
    "grid_search = GridSearchCV(clf, param_grid=param_grid, cv=5)\n",
    "grid_search.fit(training_labels, training_target)\n",
    "print(clf.__class__.__name__)\n",
    "print(\"Best parameters:\", grid_search.best_params_)\n",
    "print(\"Training accuracy:\", grid_search.best_score_)\n",
    "print(\"Test accuracy:\", grid_search.score(testing_labels, testing_target))\n",
    "print(\"---\")"
   ]
  },
  {
   "cell_type": "code",
   "execution_count": null,
   "metadata": {},
   "outputs": [],
   "source": [
    "clf, param_grid = KNeighborsClassifier(), param_grid_knn\n",
    "grid_search = GridSearchCV(clf, param_grid=param_grid, cv=5)\n",
    "grid_search.fit(training_labels, training_target)\n",
    "print(clf.__class__.__name__)\n",
    "print(\"Best parameters:\", grid_search.best_params_)\n",
    "print(\"Training accuracy:\", grid_search.best_score_)\n",
    "print(\"Test accuracy:\", grid_search.score(testing_labels, testing_target))\n",
    "print(\"---\")"
   ]
  },
  {
   "cell_type": "code",
   "execution_count": null,
   "metadata": {},
   "outputs": [],
   "source": [
    "clf, param_grid = AdaBoostClassifier(random_state=42), param_grid_ada\n",
    "grid_search = GridSearchCV(clf, param_grid=param_grid, cv=5)\n",
    "grid_search.fit(training_labels, training_target)\n",
    "print(clf.__class__.__name__)\n",
    "print(\"Best parameters:\", grid_search.best_params_)\n",
    "print(\"Training accuracy:\", grid_search.best_score_)\n",
    "print(\"Test accuracy:\", grid_search.score(testing_labels, testing_target))\n",
    "print(\"---\")"
   ]
  }
 ],
 "metadata": {
  "kernelspec": {
   "display_name": "Python 3",
   "language": "python",
   "name": "python3"
  },
  "language_info": {
   "codemirror_mode": {
    "name": "ipython",
    "version": 3
   },
   "file_extension": ".py",
   "mimetype": "text/x-python",
   "name": "python",
   "nbconvert_exporter": "python",
   "pygments_lexer": "ipython3",
   "version": "3.11.0"
  },
  "orig_nbformat": 4
 },
 "nbformat": 4,
 "nbformat_minor": 2
}
